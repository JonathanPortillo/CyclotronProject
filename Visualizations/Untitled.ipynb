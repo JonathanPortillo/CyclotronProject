{
 "cells": [
  {
   "cell_type": "code",
   "execution_count": 1,
   "id": "a4109b1e",
   "metadata": {},
   "outputs": [],
   "source": [
    "#Install PyOpenGL"
   ]
  },
  {
   "cell_type": "code",
   "execution_count": 2,
   "id": "7e9a5f4a",
   "metadata": {},
   "outputs": [
    {
     "name": "stdout",
     "output_type": "stream",
     "text": [
      "Collecting PyOpenGL\n",
      "  Downloading PyOpenGL-3.1.5-py3-none-any.whl (2.4 MB)\n",
      "Collecting PyOpenGL_accelerate\n",
      "  Downloading PyOpenGL_accelerate-3.1.5-cp38-cp38-win_amd64.whl (340 kB)\n",
      "Installing collected packages: PyOpenGL-accelerate, PyOpenGL\n",
      "Successfully installed PyOpenGL-3.1.5 PyOpenGL-accelerate-3.1.5\n",
      "Note: you may need to restart the kernel to use updated packages.\n"
     ]
    }
   ],
   "source": [
    "pip install PyOpenGL PyOpenGL_accelerate"
   ]
  },
  {
   "cell_type": "code",
   "execution_count": null,
   "id": "60435c96",
   "metadata": {},
   "outputs": [],
   "source": []
  }
 ],
 "metadata": {
  "kernelspec": {
   "display_name": "Python 3",
   "language": "python",
   "name": "python3"
  },
  "language_info": {
   "codemirror_mode": {
    "name": "ipython",
    "version": 3
   },
   "file_extension": ".py",
   "mimetype": "text/x-python",
   "name": "python",
   "nbconvert_exporter": "python",
   "pygments_lexer": "ipython3",
   "version": "3.8.8"
  }
 },
 "nbformat": 4,
 "nbformat_minor": 5
}
