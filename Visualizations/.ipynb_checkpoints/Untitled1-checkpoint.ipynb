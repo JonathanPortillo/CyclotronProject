{
 "cells": [
  {
   "cell_type": "code",
   "execution_count": 7,
   "id": "2b4c413e",
   "metadata": {},
   "outputs": [
    {
     "ename": "NullFunctionError",
     "evalue": "Attempt to call an undefined function glutInitDisplayMode, check for bool(glutInitDisplayMode) before calling",
     "output_type": "error",
     "traceback": [
      "\u001b[1;31m---------------------------------------------------------------------------\u001b[0m",
      "\u001b[1;31mNullFunctionError\u001b[0m                         Traceback (most recent call last)",
      "\u001b[1;32m<ipython-input-7-9b91392777e5>\u001b[0m in \u001b[0;36m<module>\u001b[1;34m\u001b[0m\n\u001b[0;32m      6\u001b[0m \u001b[1;32mfrom\u001b[0m \u001b[0mOpenGL\u001b[0m\u001b[1;33m.\u001b[0m\u001b[0mGLUT\u001b[0m \u001b[1;32mimport\u001b[0m \u001b[1;33m*\u001b[0m\u001b[1;33m\u001b[0m\u001b[1;33m\u001b[0m\u001b[0m\n\u001b[0;32m      7\u001b[0m \u001b[1;32mfrom\u001b[0m \u001b[0mOpenGL\u001b[0m\u001b[1;33m.\u001b[0m\u001b[0mGLU\u001b[0m \u001b[1;32mimport\u001b[0m \u001b[1;33m*\u001b[0m\u001b[1;33m\u001b[0m\u001b[1;33m\u001b[0m\u001b[0m\n\u001b[1;32m----> 8\u001b[1;33m \u001b[0mglutInitDisplayMode\u001b[0m\u001b[1;33m(\u001b[0m\u001b[0mGLUT_RGBA\u001b[0m\u001b[1;33m)\u001b[0m\u001b[1;33m\u001b[0m\u001b[1;33m\u001b[0m\u001b[0m\n\u001b[0m\u001b[0;32m      9\u001b[0m \u001b[0mw\u001b[0m\u001b[1;33m,\u001b[0m \u001b[0mh\u001b[0m \u001b[1;33m=\u001b[0m \u001b[1;36m500\u001b[0m\u001b[1;33m,\u001b[0m\u001b[1;36m500\u001b[0m\u001b[1;33m\u001b[0m\u001b[1;33m\u001b[0m\u001b[0m\n\u001b[0;32m     10\u001b[0m \u001b[1;33m\u001b[0m\u001b[0m\n",
      "\u001b[1;32m~\\anaconda3\\lib\\site-packages\\OpenGL\\platform\\baseplatform.py\u001b[0m in \u001b[0;36m__call__\u001b[1;34m(self, *args, **named)\u001b[0m\n\u001b[0;32m    421\u001b[0m                 \u001b[1;32mpass\u001b[0m\u001b[1;33m\u001b[0m\u001b[1;33m\u001b[0m\u001b[0m\n\u001b[0;32m    422\u001b[0m             \u001b[1;32melse\u001b[0m\u001b[1;33m:\u001b[0m\u001b[1;33m\u001b[0m\u001b[1;33m\u001b[0m\u001b[0m\n\u001b[1;32m--> 423\u001b[1;33m                 raise error.NullFunctionError(\n\u001b[0m\u001b[0;32m    424\u001b[0m                     \"\"\"Attempt to call an undefined function %s, check for bool(%s) before calling\"\"\"%(\n\u001b[0;32m    425\u001b[0m                         \u001b[0mself\u001b[0m\u001b[1;33m.\u001b[0m\u001b[0m__name__\u001b[0m\u001b[1;33m,\u001b[0m \u001b[0mself\u001b[0m\u001b[1;33m.\u001b[0m\u001b[0m__name__\u001b[0m\u001b[1;33m,\u001b[0m\u001b[1;33m\u001b[0m\u001b[1;33m\u001b[0m\u001b[0m\n",
      "\u001b[1;31mNullFunctionError\u001b[0m: Attempt to call an undefined function glutInitDisplayMode, check for bool(glutInitDisplayMode) before calling"
     ]
    }
   ],
   "source": [
    "import OpenGL\n",
    "import OpenGL.GL\n",
    "import OpenGL.GLUT\n",
    "import OpenGL.GLU\n",
    "from OpenGL.GL import *\n",
    "from OpenGL.GLUT import *\n",
    "from OpenGL.GLU import *\n",
    "w, h = 500,500\n",
    "\n",
    "# ---Section 1---\n",
    "def square():\n",
    "    # We have to declare the points in this sequence: bottom left, bottom right, top right, top left\n",
    "    glBegin(GL_QUADS) # Begin the sketch\n",
    "    glVertex2f(100, 100) # Coordinates for the bottom left point\n",
    "    glVertex2f(200, 100) # Coordinates for the bottom right point\n",
    "    glVertex2f(200, 200) # Coordinates for the top right point\n",
    "    glVertex2f(100, 200) # Coordinates for the top left point\n",
    "    glEnd() # Mark the end of drawing\n",
    "\n",
    "# This alone isn't enough to draw our square\n",
    "\n",
    "# ---Section 2---\n",
    "\n",
    "def showScreen():\n",
    "    glClear(GL_COLOR_BUFFER_BIT | GL_DEPTH_BUFFER_BIT) # Remove everything from screen (i.e. displays all white)\n",
    "    glLoadIdentity() # Reset all graphic/shape's position\n",
    "    square() # Draw a square using our function\n",
    "    glutSwapBuffers()\n",
    "\n",
    "#---Section 3---\n",
    "\n",
    "glutInit()\n",
    "glutInitDisplayMode(GLUT_RGBA) # Set the display mode to be colored\n",
    "glutInitWindowSize(500, 500)   # Set the w and h of your window\n",
    "glutInitWindowPosition(0, 0)   # Set the position at which this windows should appear\n",
    "wind = glutCreateWindow(\"OpenGL Coding Practice\") # Set a window title\n",
    "glutDisplayFunc(showScreen)\n",
    "glutIdleFunc(showScreen) # Keeps the window open\n",
    "glutMainLoop()  # Keeps the above created window displaying/running in a loop"
   ]
  },
  {
   "cell_type": "code",
   "execution_count": 5,
   "id": "87b6b722",
   "metadata": {},
   "outputs": [],
   "source": [
    "import OpenGL\n"
   ]
  },
  {
   "cell_type": "code",
   "execution_count": null,
   "id": "aca31953",
   "metadata": {},
   "outputs": [],
   "source": []
  }
 ],
 "metadata": {
  "kernelspec": {
   "display_name": "Python 3",
   "language": "python",
   "name": "python3"
  },
  "language_info": {
   "codemirror_mode": {
    "name": "ipython",
    "version": 3
   },
   "file_extension": ".py",
   "mimetype": "text/x-python",
   "name": "python",
   "nbconvert_exporter": "python",
   "pygments_lexer": "ipython3",
   "version": "3.8.8"
  }
 },
 "nbformat": 4,
 "nbformat_minor": 5
}
